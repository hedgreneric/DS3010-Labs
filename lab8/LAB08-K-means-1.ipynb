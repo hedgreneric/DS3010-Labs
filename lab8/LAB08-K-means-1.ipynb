{
 "cells": [
  {
   "cell_type": "markdown",
   "metadata": {},
   "source": [
    "**DS 3010: Applied Data Modeling and Predictive Analysis**\n",
    "\n",
    "# Lab 08 – K-means\n",
    "\n",
    "**Instructions:**\n",
    "1. Load Wholesale Customer from the https://archive.ics.uci.edu/ml/machine-learning-databases/00292/Wholesale%20customers%20data.csv\n",
    "2. Exclude the 'Channel' and 'Region' columns as they are categorical.\n",
    "3. Preprocess by scaling the features.\n",
    "4. Use a default KMeans model to fit the dataset, then use silhouette analysis to score the model.\n",
    "5. Try different n_clusters to see how performance change.\n",
    "6. Select the best model based on silhouette score (The higher the better)."
   ]
  },
  {
   "cell_type": "markdown",
   "metadata": {},
   "source": [
    "### Task 1. Load and preprocess the dataset"
   ]
  },
  {
   "cell_type": "code",
   "execution_count": 1,
   "metadata": {},
   "outputs": [
    {
     "name": "stdout",
     "output_type": "stream",
     "text": [
      "[[ 0.05293319  0.52356777 -0.04111489 -0.58936716 -0.04356873 -0.06633906]\n",
      " [-0.39130197  0.54445767  0.17031835 -0.27013618  0.08640684  0.08915105]\n",
      " [-0.44702926  0.40853771 -0.0281571  -0.13753572  0.13323164  2.24329255]\n",
      " ...\n",
      " [ 0.20032554  1.31467078  2.34838631 -0.54337975  2.51121768  0.12145607]\n",
      " [-0.13538389 -0.51753572 -0.60251388 -0.41944059 -0.56977032  0.21304614]\n",
      " [-0.72930698 -0.5559243  -0.57322717 -0.62009417 -0.50488752 -0.52286938]]\n"
     ]
    }
   ],
   "source": [
    "import pandas as pd\n",
    "import numpy as np\n",
    "from sklearn.cluster import KMeans\n",
    "from sklearn.metrics import silhouette_score\n",
    "from sklearn.preprocessing import StandardScaler\n",
    "\n",
    "url = \"https://archive.ics.uci.edu/ml/machine-learning-databases/00292/Wholesale%20customers%20data.csv\"\n",
    "data = pd.read_csv(url)\n",
    "data = data.drop(['Channel', 'Region'], axis=1)\n",
    "\n",
    "scaler = StandardScaler()\n",
    "data_scaled = scaler.fit_transform(data)\n",
    "print(data_scaled)"
   ]
  },
  {
   "cell_type": "markdown",
   "metadata": {},
   "source": [
    "### Task 2. Apply KMeans model and use silhouette score to evaluate the model"
   ]
  },
  {
   "cell_type": "code",
   "execution_count": 2,
   "metadata": {},
   "outputs": [
    {
     "name": "stdout",
     "output_type": "stream",
     "text": [
      "The silhouette score is 0.32366546538940916\n"
     ]
    }
   ],
   "source": [
    "kmeans = KMeans(random_state=42)\n",
    "clusters = kmeans.fit_predict(data_scaled)\n",
    "silhouette_avg = silhouette_score(data_scaled, clusters)\n",
    "print(f\"The silhouette score is {silhouette_avg}\")"
   ]
  },
  {
   "cell_type": "markdown",
   "metadata": {},
   "source": [
    "### Task 3. Try different n_clusters and select the best one. "
   ]
  },
  {
   "cell_type": "code",
   "execution_count": 3,
   "metadata": {},
   "outputs": [
    {
     "name": "stdout",
     "output_type": "stream",
     "text": [
      "The silhouette score is 0.3998278091730005\n",
      "The silhouette score is 0.4582633767207058\n",
      "The silhouette score is 0.34939129340421093\n",
      "The silhouette score is 0.36890127429678055\n",
      "The silhouette score is 0.2762464573058837\n",
      "The silhouette score is 0.276678268663421\n",
      "The silhouette score is 0.32366546538940916\n",
      "The silhouette score is 0.29453704649783113\n",
      "The best n clusters is 3, the silhouette score is 0.4582633767207058\n"
     ]
    }
   ],
   "source": [
    "best_score = 0.0\n",
    "best_n_clusters = None\n",
    "\n",
    "for n_clusters in range(2, 10):\n",
    "    kmeans = KMeans(n_clusters=n_clusters, random_state=42)\n",
    "    clusters = kmeans.fit_predict(data_scaled)\n",
    "    silhouette_avg = silhouette_score(data_scaled, clusters)\n",
    "    print(f\"The silhouette score is {silhouette_avg}\")\n",
    "    if silhouette_avg > best_score:\n",
    "        best_score = silhouette_avg\n",
    "        best_n_clusters = n_clusters\n",
    "print(f\"The best n clusters is {best_n_clusters}, the silhouette score is {best_score}\")"
   ]
  }
 ],
 "metadata": {
  "kernelspec": {
   "display_name": "coms5740",
   "language": "python",
   "name": "python3"
  },
  "language_info": {
   "codemirror_mode": {
    "name": "ipython",
    "version": 3
   },
   "file_extension": ".py",
   "mimetype": "text/x-python",
   "name": "python",
   "nbconvert_exporter": "python",
   "pygments_lexer": "ipython3",
   "version": "3.12.7"
  }
 },
 "nbformat": 4,
 "nbformat_minor": 2
}
